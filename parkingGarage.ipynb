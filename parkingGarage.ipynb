{
 "cells": [
  {
   "cell_type": "code",
   "execution_count": 1,
   "metadata": {},
   "outputs": [
    {
     "name": "stdout",
     "output_type": "stream",
     "text": [
      "Occupied Spaces\n"
     ]
    },
    {
     "ename": "AttributeError",
     "evalue": "'TicketBooth' object has no attribute 'printedticket'",
     "output_type": "error",
     "traceback": [
      "\u001b[1;31m---------------------------------------------------------------------------\u001b[0m",
      "\u001b[1;31mAttributeError\u001b[0m                            Traceback (most recent call last)",
      "\u001b[1;32mc:\\Users\\katap\\Documents\\Coding Temple\\old homework\\ParkingGarage.ipynb Cell 1\u001b[0m in \u001b[0;36m<cell line: 53>\u001b[1;34m()\u001b[0m\n\u001b[0;32m     <a href='vscode-notebook-cell:/c%3A/Users/katap/Documents/Coding%20Temple/old%20homework/ParkingGarage.ipynb#ch0000000?line=48'>49</a>\u001b[0m                 start \u001b[39m=\u001b[39m \u001b[39mFalse\u001b[39;00m\n\u001b[0;32m     <a href='vscode-notebook-cell:/c%3A/Users/katap/Documents/Coding%20Temple/old%20homework/ParkingGarage.ipynb#ch0000000?line=51'>52</a>\u001b[0m test1 \u001b[39m=\u001b[39m TicketBooth()\n\u001b[1;32m---> <a href='vscode-notebook-cell:/c%3A/Users/katap/Documents/Coding%20Temple/old%20homework/ParkingGarage.ipynb#ch0000000?line=52'>53</a>\u001b[0m test1\u001b[39m.\u001b[39;49mrun()\n",
      "\u001b[1;32mc:\\Users\\katap\\Documents\\Coding Temple\\old homework\\ParkingGarage.ipynb Cell 1\u001b[0m in \u001b[0;36mTicketBooth.run\u001b[1;34m(self)\u001b[0m\n\u001b[0;32m     <a href='vscode-notebook-cell:/c%3A/Users/katap/Documents/Coding%20Temple/old%20homework/ParkingGarage.ipynb#ch0000000?line=43'>44</a>\u001b[0m     \u001b[39mself\u001b[39m\u001b[39m.\u001b[39mtake_ticket()\n\u001b[0;32m     <a href='vscode-notebook-cell:/c%3A/Users/katap/Documents/Coding%20Temple/old%20homework/ParkingGarage.ipynb#ch0000000?line=44'>45</a>\u001b[0m \u001b[39melif\u001b[39;00m startprompt \u001b[39m==\u001b[39m \u001b[39m\"\u001b[39m\u001b[39mpay\u001b[39m\u001b[39m\"\u001b[39m:\n\u001b[1;32m---> <a href='vscode-notebook-cell:/c%3A/Users/katap/Documents/Coding%20Temple/old%20homework/ParkingGarage.ipynb#ch0000000?line=45'>46</a>\u001b[0m     \u001b[39mself\u001b[39;49m\u001b[39m.\u001b[39;49mleave_garage()\n\u001b[0;32m     <a href='vscode-notebook-cell:/c%3A/Users/katap/Documents/Coding%20Temple/old%20homework/ParkingGarage.ipynb#ch0000000?line=46'>47</a>\u001b[0m \u001b[39melif\u001b[39;00m startprompt \u001b[39m==\u001b[39m \u001b[39m\"\u001b[39m\u001b[39mq\u001b[39m\u001b[39m\"\u001b[39m:\n\u001b[0;32m     <a href='vscode-notebook-cell:/c%3A/Users/katap/Documents/Coding%20Temple/old%20homework/ParkingGarage.ipynb#ch0000000?line=47'>48</a>\u001b[0m     \u001b[39mprint\u001b[39m(\u001b[39m\"\u001b[39m\u001b[39mHave a nice day!\u001b[39m\u001b[39m\"\u001b[39m)\n",
      "\u001b[1;32mc:\\Users\\katap\\Documents\\Coding Temple\\old homework\\ParkingGarage.ipynb Cell 1\u001b[0m in \u001b[0;36mTicketBooth.leave_garage\u001b[1;34m(self)\u001b[0m\n\u001b[0;32m     <a href='vscode-notebook-cell:/c%3A/Users/katap/Documents/Coding%20Temple/old%20homework/ParkingGarage.ipynb#ch0000000?line=28'>29</a>\u001b[0m insertticket \u001b[39m=\u001b[39m \u001b[39minput\u001b[39m(\u001b[39m\"\u001b[39m\u001b[39mWhich spot did you select? \u001b[39m\u001b[39m\"\u001b[39m)\u001b[39m.\u001b[39mtitle()\n\u001b[0;32m     <a href='vscode-notebook-cell:/c%3A/Users/katap/Documents/Coding%20Temple/old%20homework/ParkingGarage.ipynb#ch0000000?line=29'>30</a>\u001b[0m \u001b[39mself\u001b[39m\u001b[39m.\u001b[39mavailable_spaces\u001b[39m.\u001b[39mappend(insertticket)\n\u001b[1;32m---> <a href='vscode-notebook-cell:/c%3A/Users/katap/Documents/Coding%20Temple/old%20homework/ParkingGarage.ipynb#ch0000000?line=30'>31</a>\u001b[0m \u001b[39mprint\u001b[39m(\u001b[39mf\u001b[39m\u001b[39m'\u001b[39m\u001b[39mYou owe \u001b[39m\u001b[39m{\u001b[39;00m\u001b[39mself\u001b[39m\u001b[39m.\u001b[39mprintedticket\u001b[39m.\u001b[39mcurrentticket[\u001b[39m\"\u001b[39m\u001b[39mprice\u001b[39m\u001b[39m\"\u001b[39m]\u001b[39m}\u001b[39;00m\u001b[39m'\u001b[39m)\n\u001b[0;32m     <a href='vscode-notebook-cell:/c%3A/Users/katap/Documents/Coding%20Temple/old%20homework/ParkingGarage.ipynb#ch0000000?line=31'>32</a>\u001b[0m payment \u001b[39m=\u001b[39m \u001b[39minput\u001b[39m(\u001b[39mf\u001b[39m\u001b[39m'\u001b[39m\u001b[39mHow would you like to pay? Cash or Card? \u001b[39m\u001b[39m{\u001b[39;00m\u001b[39mself\u001b[39m\u001b[39m.\u001b[39mprintedticket\u001b[39m.\u001b[39mcurrentticket[\u001b[39m\"\u001b[39m\u001b[39mprice\u001b[39m\u001b[39m\"\u001b[39m]\u001b[39m}\u001b[39;00m\u001b[39m: \u001b[39m\u001b[39m'\u001b[39m)\u001b[39m.\u001b[39mtitle()\n\u001b[0;32m     <a href='vscode-notebook-cell:/c%3A/Users/katap/Documents/Coding%20Temple/old%20homework/ParkingGarage.ipynb#ch0000000?line=32'>33</a>\u001b[0m \u001b[39mif\u001b[39;00m payment \u001b[39m==\u001b[39m \u001b[39m\"\u001b[39m\u001b[39mCash\u001b[39m\u001b[39m\"\u001b[39m \u001b[39mor\u001b[39;00m payment \u001b[39m==\u001b[39m \u001b[39m\"\u001b[39m\u001b[39mCard\u001b[39m\u001b[39m\"\u001b[39m:\n",
      "\u001b[1;31mAttributeError\u001b[0m: 'TicketBooth' object has no attribute 'printedticket'"
     ]
    }
   ],
   "source": [
    "class GarageTicket:\n",
    "    def __init__(self):\n",
    "        self.currentticket = {\"price\": \"3.00\", \"paid\": False, \"garaged\": True, \"spacetype\": None}\n",
    "\n",
    "\n",
    "class TicketBooth:\n",
    "    def __init__(self):\n",
    "        self.available_spaces = [\"Electric Vehicle Recharge\", \"Eco-Friendly\", \"Regular\", \"Truck\", \"G-Wagon\"]\n",
    "        self.occupied = []\n",
    "        self.tickets = []\n",
    "\n",
    "    def take_ticket(self):\n",
    "        if len(self.available_spaces) > 0:\n",
    "            for spaces in self.available_spaces:\n",
    "                print(f\" - {spaces}\")\n",
    "            spotchoice = input(\"Which space would you like? \").title()\n",
    "            self.occupied.append(self.available_spaces.pop(self.available_spaces.index(spotchoice)))\n",
    "            self.printedticket = GarageTicket()\n",
    "            self.printedticket.currentticket[\"spacetype\"] = spotchoice\n",
    "            print(f'You chose {self.printedticket.currentticket[\"spacetype\"]} space. Please go park your car in the appropriate space.')\n",
    "            \n",
    "        else: \n",
    "            print(\"There are no spots available, please come back later!\")\n",
    "\n",
    "    def leave_garage(self):\n",
    "        print(\"Occupied Spaces\")\n",
    "        for spaces in self.occupied:\n",
    "            print(f\" - {spaces}\")\n",
    "        insertticket = input(\"Which spot did you select? \").title()\n",
    "        self.available_spaces.append(insertticket)\n",
    "        print(f'You owe {self.printedticket.currentticket[\"price\"]}')\n",
    "        payment = input(f'How would you like to pay? Cash or Card? {self.printedticket.currentticket[\"price\"]}: ').title()\n",
    "        if payment == \"Cash\" or payment == \"Card\":\n",
    "            self.printedticket.currentticket [\"paid\"] = True\n",
    "            print(\"Payment successful, thank you! Have a nice day! You have 15 minutes to leave.\")\n",
    "        else:\n",
    "            print(\"You cannot get through the gate unless you pay.\")\n",
    "\n",
    "    def run(self):\n",
    "        start = True\n",
    "        while start == True:\n",
    "            startprompt = input(\"What would you like to do? Print a ticket or pay and leave? [print/pay] Press Q to turn off the ticket booth: \").lower()\n",
    "            if startprompt == \"print\":\n",
    "                self.take_ticket()\n",
    "            elif startprompt == \"pay\":\n",
    "                self.leave_garage()\n",
    "            elif startprompt == \"q\":\n",
    "                print(\"Have a nice day!\")\n",
    "                start = False\n",
    "\n",
    "\n",
    "test1 = TicketBooth()\n",
    "test1.run()"
   ]
  }
 ],
 "metadata": {
  "kernelspec": {
   "display_name": "Python 3.9.12 ('base')",
   "language": "python",
   "name": "python3"
  },
  "language_info": {
   "codemirror_mode": {
    "name": "ipython",
    "version": 3
   },
   "file_extension": ".py",
   "mimetype": "text/x-python",
   "name": "python",
   "nbconvert_exporter": "python",
   "pygments_lexer": "ipython3",
   "version": "3.9.12"
  },
  "orig_nbformat": 4,
  "vscode": {
   "interpreter": {
    "hash": "80ed5adf56c5937c35ea612552c390791522fdca61b8b087ea180b084cf950c9"
   }
  }
 },
 "nbformat": 4,
 "nbformat_minor": 2
}
